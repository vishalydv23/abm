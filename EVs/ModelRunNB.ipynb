{
 "cells": [
  {
   "cell_type": "markdown",
   "metadata": {},
   "source": [
    "## Import model\n",
    "\n",
    "A simple model of Electric Vehical agents moving around a space. Overtime they move between locations and use their battery charge, then go to find a charge point. The model was based on some introductory mesa examples found here: [Intro Tutorial](http://mesa.readthedocs.io/en/latest/intro-tutorial.html).\n",
    "\n",
    "The program runs via one model class instance, and many agents as part of the model schedule. Each timestep the model schedule runs the internal \"step function\" for each agent. \n",
    "\n",
    "As the model runs, the agents move around loosing charge, when they get to their desired location they update where they want to go next, then when they start running out of charge they seek a charging point."
   ]
  },
  {
   "cell_type": "code",
   "execution_count": 1,
   "metadata": {},
   "outputs": [],
   "source": [
    "from model.model import *\n",
    "import matplotlib.pyplot as plt"
   ]
  },
  {
   "cell_type": "markdown",
   "metadata": {},
   "source": [
    "### Create model instance with parameters:\n",
    "N=100, Number of EV agents\n",
    "width=10., size of grid\n",
    "height=10., size of grid\n",
    "speed=1, distance an agent can move in one timestep\n",
    "N_Charge=10, number of charging points\n",
    "discharge_rate=0.01, loss of charge per movement step\n",
    "CP_loc='random',  location of charging points\n",
    "model_name = 0, model name for saving out results\n",
    "MoveType = 'loc', EV movement type\n",
    "charge_rate = 0.2, EV charging speed when at charging point\n",
    "CP_capacity=10, max number of EVs per charge point"
   ]
  },
  {
   "cell_type": "code",
   "execution_count": 2,
   "metadata": {},
   "outputs": [],
   "source": [
    "# optional parameters for the model\n",
    "model = EVSpaceModel(N=100, width=10., height=10., speed=1, N_Charge=10,discharge_rate=0.05,CP_loc='inputs\\CP_locs.csv',\n",
    "                    model_name = 0, MoveType = 'loc', charge_rate = 0.2, CP_capacity=10)"
   ]
  },
  {
   "cell_type": "markdown",
   "metadata": {},
   "source": [
    "### run the model \n",
    "for X steps, then print the model dataframe"
   ]
  },
  {
   "cell_type": "code",
   "execution_count": 3,
   "metadata": {},
   "outputs": [],
   "source": [
    "model.run_model(200)  "
   ]
  },
  {
   "cell_type": "markdown",
   "metadata": {},
   "source": [
    "### print model results"
   ]
  },
  {
   "cell_type": "code",
   "execution_count": 4,
   "metadata": {},
   "outputs": [
    {
     "name": "stdout",
     "output_type": "stream",
     "text": [
      "     av_charge  completed_trip  dead_cars\n",
      "191   0.588457              13          0\n",
      "192   0.606457              13          0\n",
      "193   0.626457              16          0\n",
      "194   0.646457              14          0\n",
      "195   0.660457              11          0\n",
      "196   0.668457              16          0\n",
      "197   0.676457              13          0\n",
      "198   0.674457              13          0\n",
      "199   0.660457              13          0\n",
      "200   0.644457              19          0\n",
      "                charge last_location next_location  \\\n",
      "Step AgentID                                         \n",
      "200  90       0.326383        charge        charge   \n",
      "     91       0.905266        charge          work   \n",
      "     92       0.811519          work        random   \n",
      "     93       0.823739          home          work   \n",
      "     94       0.780240          work        random   \n",
      "     95       0.239769          home          work   \n",
      "     96       0.455541          work          home   \n",
      "     97       0.662659        charge        charge   \n",
      "     98       0.571634          work          home   \n",
      "     99       0.910917        charge          work   \n",
      "\n",
      "                                                  pos  \n",
      "Step AgentID                                           \n",
      "200  90                                        (5, 5)  \n",
      "     91        (6.316977702835295, 6.919520501237324)  \n",
      "     92        (7.657665807458134, 5.626084069809547)  \n",
      "     93       (0.7569748475247418, 4.435345294206425)  \n",
      "     94         (8.796587517963088, 1.82219470459989)  \n",
      "     95        (4.846343012953415, 4.849004732974988)  \n",
      "     96        (5.839457390475505, 7.220630451447752)  \n",
      "     97                                        (5, 5)  \n",
      "     98        (6.630116304171919, 7.518147455734287)  \n",
      "     99        (3.402181568911943, 4.652147591632796)  \n"
     ]
    }
   ],
   "source": [
    "mdf = model.datacollector.get_model_vars_dataframe()\n",
    "adf = model.datacollector.get_agent_vars_dataframe()\n",
    "print(mdf.tail(10))\n",
    "print(adf.tail(10))"
   ]
  },
  {
   "cell_type": "code",
   "execution_count": 5,
   "metadata": {},
   "outputs": [
    {
     "data": {
      "text/plain": [
       "[Text(0.5, 0, 'Steps'), Text(0, 0.5, 'Average charge')]"
      ]
     },
     "execution_count": 5,
     "metadata": {},
     "output_type": "execute_result"
    },
    {
     "data": {
      "image/png": "[encoded data removed]",
      "text/plain": [
       "<Figure size 432x288 with 1 Axes>"
      ]
     },
     "metadata": {
      "needs_background": "light"
     },
     "output_type": "display_data"
    }
   ],
   "source": [
    "fig, ax = plt.subplots()\n",
    "ax.plot(mdf.index, mdf['av_charge'])\n",
    "ax.set(xlabel='Steps', ylabel='Average charge')"
   ]
  },
  {
   "cell_type": "code",
   "execution_count": 15,
   "metadata": {},
   "outputs": [
    {
     "data": {
      "text/plain": [
       "[(2, 2), (2, 5), (2, 8), (5, 2), (5, 5), (5, 8), (8, 2), (8, 5), (8, 8)]"
      ]
     },
     "execution_count": 15,
     "metadata": {},
     "output_type": "execute_result"
    }
   ],
   "source": [
    "[dict_x.__dict__['pos'] for x,dict_x in model.schedule_CP._agents.items()]"
   ]
  }
 ],
 "metadata": {
  "interpreter": {
   "hash": "ee9e6933ea4ec630184a8c87a27d1e6784d86fb6cb93da4e10a0fb72fa368fde"
  },
  "kernelspec": {
   "display_name": "Python 3.10.4 64-bit",
   "language": "python",
   "name": "python3"
  },
  "language_info": {
   "codemirror_mode": {
    "name": "ipython",
    "version": 3
   },
   "file_extension": ".py",
   "mimetype": "text/x-python",
   "name": "python",
   "nbconvert_exporter": "python",
   "pygments_lexer": "ipython3",
   "version": "3.10.4"
  },
  "orig_nbformat": 4
 },
 "nbformat": 4,
 "nbformat_minor": 2
}
