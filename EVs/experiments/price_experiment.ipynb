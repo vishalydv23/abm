{
 "cells": [
  {
   "cell_type": "code",
   "execution_count": 1,
   "metadata": {},
   "outputs": [],
   "source": [
    "import os\n",
    "import sys\n",
    "\n",
    "os.chdir('../')\n",
    "\n",
    "from model.model import EVSpaceModel\n",
    "import matplotlib.pyplot as plt\n",
    "from matplotlib import ticker, cm\n",
    "import seaborn as sns\n",
    "import numpy as np\n",
    "\n",
    "import pandas as pd\n",
    "def is_business_day(date):\n",
    "        return bool(len(pd.bdate_range(date,date)))"
   ]
  },
  {
   "cell_type": "code",
   "execution_count": 2,
   "metadata": {},
   "outputs": [
    {
     "name": "stdout",
     "output_type": "stream",
     "text": [
      "0\n",
      "0 []\n",
      "[]\n"
     ]
    },
    {
     "name": "stderr",
     "output_type": "stream",
     "text": [
      "c:\\Users\\gwharf\\AppData\\Local\\Programs\\Python\\Python310\\lib\\site-packages\\pandas\\core\\indexing.py:2115: FutureWarning: In a future version, the Index constructor will not infer numeric dtypes when passed object-dtype sequences (matching Series behavior)\n",
      "  new_ix = Index(new_ix)\n"
     ]
    },
    {
     "name": "stdout",
     "output_type": "stream",
     "text": [
      "base_run\n",
      "base_run hour\n",
      "0     off\n",
      "1     off\n",
      "2     off\n",
      "3     off\n",
      "4     off\n",
      "5     off\n",
      "6     off\n",
      "7      on\n",
      "8      on\n",
      "9      on\n",
      "10     on\n",
      "11    mid\n",
      "12    mid\n",
      "13    mid\n",
      "14    mid\n",
      "15    mid\n",
      "16    mid\n",
      "17     on\n",
      "18     on\n",
      "19    off\n",
      "20    off\n",
      "21    off\n",
      "22    off\n",
      "23    off\n",
      "Name: base_run, dtype: object\n",
      "hour\n",
      "0     off\n",
      "1     off\n",
      "2     off\n",
      "3     off\n",
      "4     off\n",
      "5     off\n",
      "6     off\n",
      "7      on\n",
      "8      on\n",
      "9      on\n",
      "10     on\n",
      "11    mid\n",
      "12    mid\n",
      "13    mid\n",
      "14    mid\n",
      "15    mid\n",
      "16    mid\n",
      "17     on\n",
      "18     on\n",
      "19    off\n",
      "20    off\n",
      "21    off\n",
      "22    off\n",
      "23    off\n",
      "Name: base_run, dtype: object\n"
     ]
    },
    {
     "name": "stderr",
     "output_type": "stream",
     "text": [
      "c:\\Users\\gwharf\\AppData\\Local\\Programs\\Python\\Python310\\lib\\site-packages\\pandas\\core\\indexing.py:2115: FutureWarning: In a future version, the Index constructor will not infer numeric dtypes when passed object-dtype sequences (matching Series behavior)\n",
      "  new_ix = Index(new_ix)\n"
     ]
    },
    {
     "name": "stdout",
     "output_type": "stream",
     "text": [
      "none\n",
      "none hour\n",
      "0     off\n",
      "1     off\n",
      "2     off\n",
      "3     off\n",
      "4     off\n",
      "5     off\n",
      "6     off\n",
      "7     off\n",
      "8     off\n",
      "9     off\n",
      "10    off\n",
      "11    off\n",
      "12    off\n",
      "13    off\n",
      "14    off\n",
      "15    off\n",
      "16    off\n",
      "17    off\n",
      "18    off\n",
      "19    off\n",
      "20    off\n",
      "21    off\n",
      "22    off\n",
      "23    off\n",
      "Name: none, dtype: object\n",
      "hour\n",
      "0     off\n",
      "1     off\n",
      "2     off\n",
      "3     off\n",
      "4     off\n",
      "5     off\n",
      "6     off\n",
      "7     off\n",
      "8     off\n",
      "9     off\n",
      "10    off\n",
      "11    off\n",
      "12    off\n",
      "13    off\n",
      "14    off\n",
      "15    off\n",
      "16    off\n",
      "17    off\n",
      "18    off\n",
      "19    off\n",
      "20    off\n",
      "21    off\n",
      "22    off\n",
      "23    off\n",
      "Name: none, dtype: object\n"
     ]
    },
    {
     "name": "stderr",
     "output_type": "stream",
     "text": [
      "c:\\Users\\gwharf\\AppData\\Local\\Programs\\Python\\Python310\\lib\\site-packages\\pandas\\core\\indexing.py:2115: FutureWarning: In a future version, the Index constructor will not infer numeric dtypes when passed object-dtype sequences (matching Series behavior)\n",
      "  new_ix = Index(new_ix)\n"
     ]
    },
    {
     "name": "stdout",
     "output_type": "stream",
     "text": [
      "shifted\n",
      "shifted hour\n",
      "0     off\n",
      "1     off\n",
      "2     off\n",
      "3     off\n",
      "4     off\n",
      "5     off\n",
      "6     off\n",
      "7     off\n",
      "8     off\n",
      "9     off\n",
      "10     on\n",
      "11     on\n",
      "12     on\n",
      "13     on\n",
      "14    mid\n",
      "15    mid\n",
      "16    mid\n",
      "17    mid\n",
      "18    mid\n",
      "19    mid\n",
      "20     on\n",
      "21     on\n",
      "22    off\n",
      "23    off\n",
      "Name: shifted, dtype: object\n",
      "hour\n",
      "0     off\n",
      "1     off\n",
      "2     off\n",
      "3     off\n",
      "4     off\n",
      "5     off\n",
      "6     off\n",
      "7     off\n",
      "8     off\n",
      "9     off\n",
      "10     on\n",
      "11     on\n",
      "12     on\n",
      "13     on\n",
      "14    mid\n",
      "15    mid\n",
      "16    mid\n",
      "17    mid\n",
      "18    mid\n",
      "19    mid\n",
      "20     on\n",
      "21     on\n",
      "22    off\n",
      "23    off\n",
      "Name: shifted, dtype: object\n"
     ]
    },
    {
     "name": "stderr",
     "output_type": "stream",
     "text": [
      "c:\\Users\\gwharf\\AppData\\Local\\Programs\\Python\\Python310\\lib\\site-packages\\pandas\\core\\indexing.py:2115: FutureWarning: In a future version, the Index constructor will not infer numeric dtypes when passed object-dtype sequences (matching Series behavior)\n",
      "  new_ix = Index(new_ix)\n"
     ]
    }
   ],
   "source": [
    "cfg = 'configs/Mississauga_cfg.yml' #'configs/east_box.yml' #'configs/Mississauga_cfg.yml' # 'configs/Point_Edward_cfg.ym\n",
    "prices = [0, 'base_run', 'none', 'shifted']\n",
    "mdf_res = []\n",
    "for price_mech in prices:\n",
    "    model = EVSpaceModel(cfg=cfg, ModelP_price_set_mechanism = price_mech)  \n",
    "    model.run_model(240) #24*365   \n",
    "    # model.save()\n",
    "    mdf = model.datacollector.get_model_vars_dataframe()\n",
    "    mdf['price_mech'] = price_mech\n",
    "    mdf['isbusinessday'] = [is_business_day(date) for date in mdf.date_time]\n",
    "    mdf['hour'] = pd.to_datetime(mdf.date_time).dt.hour\n",
    "    mdf_res.append(mdf)\n",
    "mdf_all = pd.concat(mdf_res,ignore_index=True)"
   ]
  },
  {
   "cell_type": "code",
   "execution_count": 3,
   "metadata": {},
   "outputs": [
    {
     "data": {
      "text/plain": [
       "False"
      ]
     },
     "execution_count": 3,
     "metadata": {},
     "output_type": "execute_result"
    }
   ],
   "source": [
    "'base' == 0"
   ]
  },
  {
   "cell_type": "code",
   "execution_count": 6,
   "metadata": {},
   "outputs": [
    {
     "data": {
      "text/plain": [
       "<AxesSubplot:xlabel='hour', ylabel='price'>"
      ]
     },
     "execution_count": 6,
     "metadata": {},
     "output_type": "execute_result"
    },
    {
     "data": {
      "image/png": "[encoded data removed]",
      "text/plain": [
       "<Figure size 432x288 with 1 Axes>"
      ]
     },
     "metadata": {
      "needs_background": "light"
     },
     "output_type": "display_data"
    }
   ],
   "source": [
    "mdf_all_hours = mdf_all.groupby(['model_name','price_mech','hour','isbusinessday']).mean().reset_index()\n",
    "\n",
    "import seaborn as sns\n",
    "\n",
    "fig,ax = plt.subplots()\n",
    "\n",
    "sns.lineplot(data=mdf_all_hours,x='hour',y='price',hue='price_mech',ax=ax)\n",
    "sns.lineplot(data=mdf_all_hours,x='hour',y='charge_load',hue='price_mech',ax=ax)"
   ]
  }
 ],
 "metadata": {
  "kernelspec": {
   "display_name": "Python 3.10.4 64-bit",
   "language": "python",
   "name": "python3"
  },
  "language_info": {
   "codemirror_mode": {
    "name": "ipython",
    "version": 3
   },
   "file_extension": ".py",
   "mimetype": "text/x-python",
   "name": "python",
   "nbconvert_exporter": "python",
   "pygments_lexer": "ipython3",
   "version": "3.10.4"
  },
  "orig_nbformat": 4,
  "vscode": {
   "interpreter": {
    "hash": "ee9e6933ea4ec630184a8c87a27d1e6784d86fb6cb93da4e10a0fb72fa368fde"
   }
  }
 },
 "nbformat": 4,
 "nbformat_minor": 2
}
