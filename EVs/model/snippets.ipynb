{
 "cells": [
  {
   "cell_type": "code",
   "execution_count": 13,
   "metadata": {},
   "outputs": [
    {
     "name": "stdout",
     "output_type": "stream",
     "text": [
      "8.125\n",
      "0.125\n"
     ]
    }
   ],
   "source": [
    "import numpy as np\n",
    "x = [1,2,3,4,5,3,6,72,6,24,6,3,-1,2,-2,-4]\n",
    "y = np.array(x)\n",
    "print(np.mean(y))\n",
    "print(len(y[y==2])/len(y))"
   ]
  },
  {
   "cell_type": "code",
   "execution_count": 16,
   "metadata": {},
   "outputs": [
    {
     "data": {
      "text/plain": [
       "0.125"
      ]
     },
     "execution_count": 16,
     "metadata": {},
     "output_type": "execute_result"
    }
   ],
   "source": [
    "np.mean(y==2)"
   ]
  },
  {
   "cell_type": "code",
   "execution_count": null,
   "metadata": {},
   "outputs": [],
   "source": [
    "(len(y[y<0])"
   ]
  },
  {
   "cell_type": "code",
   "execution_count": 12,
   "metadata": {},
   "outputs": [
    {
     "data": {
      "text/plain": [
       "(array([0., 0., 0., 0., 0., 1., 0., 0., 0., 0.]),\n",
       " array([8.5, 8.6, 8.7, 8.8, 8.9, 9. , 9.1, 9.2, 9.3, 9.4, 9.5]),\n",
       " <BarContainer object of 10 artists>)"
      ]
     },
     "execution_count": 12,
     "metadata": {},
     "output_type": "execute_result"
    },
    {
     "data": {
      "image/png": "[encoded data removed]",
      "text/plain": [
       "<Figure size 432x288 with 1 Axes>"
      ]
     },
     "metadata": {
      "needs_background": "light"
     },
     "output_type": "display_data"
    }
   ],
   "source": [
    "import matplotlib.pyplot as plt\n",
    "\n",
    "x = np.random.binomial(20,0.4)\n",
    "plt.hist(x)"
   ]
  },
  {
   "cell_type": "code",
   "execution_count": null,
   "metadata": {},
   "outputs": [],
   "source": [
    "\n",
    "    def price_function(self):\n",
    "        charge_need = (self.max_range - self.charge)/self.charge\n",
    "        choice_charge = True if charge_need > self.model.price else False\n",
    "        return choice_charge\n",
    "\n",
    "    def step(self):\n",
    "        \"\"\" key agent step, can add functions in here for agent behaviours \"\"\"\n",
    "        \n",
    "        #if at home, work or charging point then could be charging. decide on if want to via price\n",
    "        if not self.moving and (self.last_location == 'work' | self.last_location == 'home'):\n",
    "            if self.price_function():\n",
    "                self.charging = True\n",
    "        elif not self.moving and (self.last_location == 'charge'):\n",
    "            self.charging = True\n"
   ]
  },
  {
   "cell_type": "code",
   "execution_count": 30,
   "metadata": {},
   "outputs": [
    {
     "name": "stdout",
     "output_type": "stream",
     "text": [
      "[0.33333333 0.44444444 0.22222222]\n"
     ]
    }
   ],
   "source": [
    "locations_names_new = ['a','b','c']\n",
    "loc_probs = np.array([3,4,2])\n",
    "print(loc_probs/sum(loc_probs))\n",
    "# np.random.choice(locations_names_new, p=loc_probs/sum(loc_probs))"
   ]
  },
  {
   "cell_type": "code",
   "execution_count": 1,
   "metadata": {},
   "outputs": [],
   "source": [
    "x = ['Charging Point' 'work' 'home' 'moving' 'charge' 'random']\n",
    "x.sort()"
   ]
  },
  {
   "cell_type": "code",
   "execution_count": 1,
   "metadata": {},
   "outputs": [
    {
     "name": "stdout",
     "output_type": "stream",
     "text": [
      "{0, 1, 2, 3, 4, 5, 6, 7, 8, 9, 10, 11, 12, 13, 14, 15, 16, 17, 18, 19, 20, 21, 22, 23}\n"
     ]
    },
    {
     "data": {
      "text/plain": [
       "{0, 1, 5, 6, 7, 8, 9, 10, 11, 12, 13, 14, 15, 16, 17, 18, 19, 20, 21, 22, 23}"
      ]
     },
     "execution_count": 1,
     "metadata": {},
     "output_type": "execute_result"
    }
   ],
   "source": [
    "import numpy as np\n",
    " \n",
    "\n",
    "x = set(np.arange(24))\n",
    "print(x)\n",
    "x-set([2,3,4])"
   ]
  }
 ],
 "metadata": {
  "kernelspec": {
   "display_name": "Python 3.10.4 64-bit",
   "language": "python",
   "name": "python3"
  },
  "language_info": {
   "codemirror_mode": {
    "name": "ipython",
    "version": 3
   },
   "file_extension": ".py",
   "mimetype": "text/x-python",
   "name": "python",
   "nbconvert_exporter": "python",
   "pygments_lexer": "ipython3",
   "version": "3.10.4"
  },
  "orig_nbformat": 4,
  "vscode": {
   "interpreter": {
    "hash": "ee9e6933ea4ec630184a8c87a27d1e6784d86fb6cb93da4e10a0fb72fa368fde"
   }
  }
 },
 "nbformat": 4,
 "nbformat_minor": 2
}
