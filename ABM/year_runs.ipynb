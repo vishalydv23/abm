{
 "cells": [
  {
   "cell_type": "code",
   "execution_count": 26,
   "metadata": {},
   "outputs": [],
   "source": [
    "from model.model import *\n",
    "import matplotlib.pyplot as plt\n",
    "from matplotlib import ticker, cm\n",
    "import seaborn as sns\n",
    "import pandas as pd\n"
   ]
  },
  {
   "cell_type": "code",
   "execution_count": 27,
   "metadata": {},
   "outputs": [],
   "source": [
    "OPS_data = pd.read_csv('Data/OPS_data.csv',dtype={'EV_num':'int'})\n",
    "load_curve = pd.read_csv('Data/load_curve.csv').set_index('time') * 0.001\n",
    "EV_load_base = pd.read_csv('Data/EV_load_base.csv').set_index('time')"
   ]
  },
  {
   "cell_type": "code",
   "execution_count": 28,
   "metadata": {},
   "outputs": [],
   "source": [
    "num_tests = 20\n",
    "len_model = 100\n",
    "pop_growth = [0.0005,0.0005]\n",
    "ev_growth = [0.005,0.005]\n",
    "res_dict = {}\n",
    "final_curves = []\n",
    "mdf_all = []\n",
    "\n",
    "for i in range(num_tests):\n",
    "    # print(f'Starting Run {i}')\n",
    "    model = EV_model(OPS_data,load_curve,EV_load_base, pop_growth, ev_growth)\n",
    "    model.run_model(len_model)   \n",
    "    mdf = model.datacollector.get_model_vars_dataframe()\n",
    "    mdf['run'] = i\n",
    "    adf = model.datacollector.get_agent_vars_dataframe()\n",
    "    adf['run'] = i\n",
    "\n",
    "    all_curve = model.total_load_curve.set_index(['Date','time'])\n",
    "    all_curve['Total'] = all_curve.sum(axis=1)\n",
    "    res_dict[i] = all_curve\n",
    "    total_len = all_curve.loc[len_model-1,'Total'].to_frame()\n",
    "    total_len['i'] = i\n",
    "    final_curves.append(total_len)\n",
    "    mdf_all.append(mdf)"
   ]
  },
  {
   "cell_type": "code",
   "execution_count": 29,
   "metadata": {},
   "outputs": [
    {
     "data": {
      "text/plain": [
       "<AxesSubplot:>"
      ]
     },
     "execution_count": 29,
     "metadata": {},
     "output_type": "execute_result"
    },
    {
     "data": {
      "image/png": "[encoded data removed]",
      "text/plain": [
       "<Figure size 432x288 with 2 Axes>"
      ]
     },
     "metadata": {
      "needs_background": "light"
     },
     "output_type": "display_data"
    }
   ],
   "source": [
    "results = pd.concat(final_curves).reset_index()\n",
    "import seaborn as sns\n",
    "\n",
    "fig,ax = plt.subplots(2)\n",
    "sns.lineplot(data=results,x='time',y='Total',hue='i',ax=ax[0])\n",
    "results.set_index(['i','time']).unstack().sum(axis=1).hist(ax=ax[1])"
   ]
  }
 ],
 "metadata": {
  "interpreter": {
   "hash": "ee9e6933ea4ec630184a8c87a27d1e6784d86fb6cb93da4e10a0fb72fa368fde"
  },
  "kernelspec": {
   "display_name": "Python 3.10.4 64-bit",
   "language": "python",
   "name": "python3"
  },
  "language_info": {
   "codemirror_mode": {
    "name": "ipython",
    "version": 3
   },
   "file_extension": ".py",
   "mimetype": "text/x-python",
   "name": "python",
   "nbconvert_exporter": "python",
   "pygments_lexer": "ipython3",
   "version": "3.10.4"
  },
  "orig_nbformat": 4
 },
 "nbformat": 4,
 "nbformat_minor": 2
}
